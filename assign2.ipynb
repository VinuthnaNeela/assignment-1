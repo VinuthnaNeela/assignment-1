{
 "cells": [
  {
   "cell_type": "code",
   "execution_count": 1,
   "metadata": {},
   "outputs": [
    {
     "name": "stdout",
     "output_type": "stream",
     "text": [
      "enter a value into year2001\n",
      "snake\n"
     ]
    }
   ],
   "source": [
    "y=int(input(\"enter a value into year\"))\n",
    "if y%12==0:\n",
    "    print(\"monkey\")\n",
    "elif y%12==1:\n",
    "    print(\"rooster\")\n",
    "elif y%12==2:\n",
    "    print(\"dog\")\n",
    "elif y%12==3:\n",
    "    print(\"pig\")\n",
    "elif y%12==4:\n",
    "    print(\"rat\")\n",
    "elif y%12==5:\n",
    "    print(\"ox\")\n",
    "elif y%12==6:\n",
    "    print(\"tiger\")\n",
    "elif y%12==7:\n",
    "    print(\"rabbit\")\n",
    "elif y%12==8:\n",
    "    print(\"dragon\")\n",
    "elif y%12==9:\n",
    "    print(\"snake\")\n",
    "elif y%12==10:\n",
    "    print(\"horse\")\n",
    "else:\n",
    "    print(\"sheep\")\n"
   ]
  },
  {
   "cell_type": "code",
   "execution_count": 2,
   "metadata": {},
   "outputs": [
    {
     "name": "stdout",
     "output_type": "stream",
     "text": [
      "enter distance500\n",
      "enter weight100\n",
      "Amount to be paid: \n",
      "2500\n"
     ]
    }
   ],
   "source": [
    "d=int(input(\"enter distance\"))\n",
    "w=int(input(\"enter weight\"))\n",
    "if d>=500:\n",
    "    if w>=100:\n",
    "        c=d*5\n",
    "        print(\"Amount to be paid: \")\n",
    "        print(c)\n",
    "    elif 10<=w<100:\n",
    "        c=d*6\n",
    "        print(\"amount to be paid: \")\n",
    "        print(c)\n",
    "    elif w<10:\n",
    "        c=d*7\n",
    "        print(\"amount to be paid: \")\n",
    "        print(c)\n",
    "else: \n",
    "    if w>=100:\n",
    "        c=d*8\n",
    "        print(\"amount to be paid: \")\n",
    "        print(c)\n",
    "    else:\n",
    "        c=d*5\n",
    "        print(\"Amount to be paid: \")\n",
    "        print(c)\n"
   ]
  },
  {
   "cell_type": "code",
   "execution_count": 3,
   "metadata": {},
   "outputs": [
    {
     "name": "stdout",
     "output_type": "stream",
     "text": [
      "types of seats available\n",
      "stalls, circle , box , upper class\n",
      "enter the type of seat: box\n",
      "available payment modes\n",
      "cash , credit card\n",
      "enter payment mode:cash\n",
      "950.0\n"
     ]
    }
   ],
   "source": [
    "print(\"types of seats available\")\n",
    "print(\"stalls, circle , box , upper class\")\n",
    "s=input(\"enter the type of seat: \")\n",
    "if s==\"stalls\":\n",
    "    a=625\n",
    "elif s==\"circle\":\n",
    "    a=750\n",
    "elif s==\"box\":\n",
    "    a=1000\n",
    "elif s==\"upper class\":\n",
    "    a==850\n",
    "print(\"available payment modes\")\n",
    "print(\"cash , credit card\")\n",
    "p=input(\"enter payment mode:\")\n",
    "if p==\"card\":\n",
    "    a=a-a*(1/10)\n",
    "    print(a)\n",
    "else:\n",
    "    a=a-a*(1/20)\n",
    "    print(a)"
   ]
  },
  {
   "cell_type": "code",
   "execution_count": 4,
   "metadata": {},
   "outputs": [
    {
     "name": "stdout",
     "output_type": "stream",
     "text": [
      "enter weight of water in kg's: 500\n",
      "enter the initial temperature: 100\n",
      "enter the final temperature: 200\n",
      "209200000\n"
     ]
    }
   ],
   "source": [
    "m=int(input(\"enter weight of water in kg's: \"))\n",
    "i=int(input(\"enter the initial temperature: \"))\n",
    "f=int(input(\"enter the final temperature: \"))\n",
    "q=(m)*(f-i)*4184\n",
    "print(q)\n"
   ]
  },
  {
   "cell_type": "code",
   "execution_count": 5,
   "metadata": {},
   "outputs": [
    {
     "name": "stdout",
     "output_type": "stream",
     "text": [
      "enter month: april\n",
      "spring\n"
     ]
    }
   ],
   "source": [
    "m=input(\"enter month: \")\n",
    "if (m==\"december\" or m==\"january\" or m==\"february\"):\n",
    "    print(\"winter\")\n",
    "elif (m==\"march\" or m==\"april\" or m==\"may\"):\n",
    "    print(\"spring\")\n",
    "elif (m==\"june\" or m==\"july\" or m==\"august\"):\n",
    "    print(\"summer\")\n",
    "else:\n",
    "    print(\"autumn\")"
   ]
  },
  {
   "cell_type": "code",
   "execution_count": 6,
   "metadata": {},
   "outputs": [
    {
     "name": "stdout",
     "output_type": "stream",
     "text": [
      "enter weight100\n",
      "enter height50\n",
      "Over weight\n"
     ]
    }
   ],
   "source": [
    "w=int(input(\"enter weight\"))\n",
    "h=int(input(\"enter height\"))\n",
    "b=(w*0.45359237)/(h*0.0254)**2\n",
    "if b<18.5:\n",
    "    print(\"Underweight\")\n",
    "elif 18.5<=b<25.0:\n",
    "    print(\"Normal\")\n",
    "elif 25.0<=b<30.0:\n",
    "    print(\"Over weight\")\n",
    "else:\n",
    "    print(\"Obese\")"
   ]
  },
  {
   "cell_type": "code",
   "execution_count": 7,
   "metadata": {},
   "outputs": [
    {
     "name": "stdout",
     "output_type": "stream",
     "text": [
      "enter a number btw 100 and 1000: 204\n",
      "6\n"
     ]
    }
   ],
   "source": [
    "n=int(input(\"enter a number btw 100 and 1000: \"))\n",
    "sum=0\n",
    "if  100<n<1000:\n",
    "    while n>0:\n",
    "        sum=sum+(n%10)\n",
    "        n=n//10\n",
    "    print(sum)"
   ]
  },
  {
   "cell_type": "code",
   "execution_count": 8,
   "metadata": {},
   "outputs": [
    {
     "name": "stdout",
     "output_type": "stream",
     "text": [
      "1 153 370 371 407 "
     ]
    }
   ],
   "source": [
    "for i in range (1,1001):\n",
    "    s=0\n",
    "    a=i\n",
    "    # n=len(str(i))\n",
    "    while i>0:\n",
    "        s=s+(i%10)**3\n",
    "        i=i//10\n",
    "    if s==a:\n",
    "        print( a ,end=\" \")"
   ]
  },
  {
   "cell_type": "code",
   "execution_count": 9,
   "metadata": {},
   "outputs": [
    {
     "name": "stdout",
     "output_type": "stream",
     "text": [
      "1 2 3 4 5 6 7 8 9 11 22 33 44 55 66 77 88 99 101 111 121 131 141 151 161 171 181 191 202 212 222 232 242 252 262 272 282 292 303 313 323 333 343 353 363 373 383 393 404 414 424 434 444 454 464 474 484 494 505 515 525 535 545 555 565 575 585 595 606 616 626 636 646 656 666 676 686 696 707 717 727 737 747 757 767 777 787 797 808 818 828 838 848 858 868 878 888 898 909 919 929 939 949 959 969 979 989 999 "
     ]
    }
   ],
   "source": [
    "for i in range(1,1001):\n",
    "    r=0\n",
    "    t=i\n",
    "    while i>0:\n",
    "        r=r*10+i%10\n",
    "        i=i//10\n",
    "    if r==t:\n",
    "        print(t, end=\" \")\n"
   ]
  },
  {
   "cell_type": "code",
   "execution_count": 10,
   "metadata": {},
   "outputs": [
    {
     "name": "stdout",
     "output_type": "stream",
     "text": [
      "1\n",
      "2\n",
      "FIZZ\n",
      "4\n",
      "BUZZ\n",
      "FIZZ\n",
      "7\n",
      "8\n",
      "FIZZ\n",
      "BUZZ\n",
      "11\n",
      "FIZZ\n",
      "13\n",
      "14\n",
      "FIZZBUZZ\n",
      "16\n",
      "17\n",
      "FIZZ\n",
      "19\n",
      "BUZZ\n",
      "FIZZ\n",
      "22\n",
      "23\n",
      "FIZZ\n",
      "BUZZ\n",
      "26\n",
      "FIZZ\n",
      "28\n",
      "29\n",
      "FIZZBUZZ\n",
      "31\n",
      "32\n",
      "FIZZ\n",
      "34\n",
      "BUZZ\n",
      "FIZZ\n",
      "37\n",
      "38\n",
      "FIZZ\n",
      "BUZZ\n",
      "41\n",
      "FIZZ\n",
      "43\n",
      "44\n",
      "FIZZBUZZ\n",
      "46\n",
      "47\n",
      "FIZZ\n",
      "49\n",
      "BUZZ\n",
      "FIZZ\n",
      "52\n",
      "53\n",
      "FIZZ\n",
      "BUZZ\n",
      "56\n",
      "FIZZ\n",
      "58\n",
      "59\n",
      "FIZZBUZZ\n",
      "61\n",
      "62\n",
      "FIZZ\n",
      "64\n",
      "BUZZ\n",
      "FIZZ\n",
      "67\n",
      "68\n",
      "FIZZ\n",
      "BUZZ\n",
      "71\n",
      "FIZZ\n",
      "73\n",
      "74\n",
      "FIZZBUZZ\n",
      "76\n",
      "77\n",
      "FIZZ\n",
      "79\n",
      "BUZZ\n",
      "FIZZ\n",
      "82\n",
      "83\n",
      "FIZZ\n",
      "BUZZ\n",
      "86\n",
      "FIZZ\n",
      "88\n",
      "89\n",
      "FIZZBUZZ\n",
      "91\n",
      "92\n",
      "FIZZ\n",
      "94\n",
      "BUZZ\n",
      "FIZZ\n",
      "97\n",
      "98\n",
      "FIZZ\n",
      "BUZZ\n"
     ]
    }
   ],
   "source": [
    "for i in range(1,101):\n",
    "    if i%3==0 and i%5==0:\n",
    "        print(\"FIZZBUZZ\")\n",
    "    elif i%3==0:\n",
    "        print(\"FIZZ\")\n",
    "    elif i%5==0:\n",
    "        print(\"BUZZ\")\n",
    "    else :\n",
    "        print(i)"
   ]
  },
  {
   "cell_type": "code",
   "execution_count": 11,
   "metadata": {},
   "outputs": [
    {
     "name": "stdout",
     "output_type": "stream",
     "text": [
      "enter height: 200\n",
      "enter climbing distance in meters: 50\n",
      "enter falling distance in meters: 1\n",
      "5\n"
     ]
    }
   ],
   "source": [
    "h=int(input(\"enter height: \"))\n",
    "u=int(input(\"enter climbing distance in meters: \"))\n",
    "d=int(input(\"enter falling distance in meters: \"))\n",
    "s=((h-u)+(u-d))//(u-d)\n",
    "print(s+1)"
   ]
  },
  {
   "cell_type": "code",
   "execution_count": null,
   "metadata": {},
   "outputs": [],
   "source": []
  }
 ],
 "metadata": {
  "kernelspec": {
   "display_name": "Python 3",
   "language": "python",
   "name": "python3"
  },
  "language_info": {
   "codemirror_mode": {
    "name": "ipython",
    "version": 3
   },
   "file_extension": ".py",
   "mimetype": "text/x-python",
   "name": "python",
   "nbconvert_exporter": "python",
   "pygments_lexer": "ipython3",
   "version": "3.7.6"
  }
 },
 "nbformat": 4,
 "nbformat_minor": 4
}
