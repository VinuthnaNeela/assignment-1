{
 "cells": [
  {
   "cell_type": "code",
   "execution_count": null,
   "metadata": {},
   "outputs": [],
   "source": []
  },
  {
   "cell_type": "code",
   "execution_count": 2,
   "metadata": {},
   "outputs": [
    {
     "name": "stdout",
     "output_type": "stream",
     "text": [
      "0.30000000000000004\n",
      "1.82\n",
      "True\n",
      "False\n",
      "predict output  ....\n"
     ]
    }
   ],
   "source": [
    "print(0.1+0.2)\n",
    "#0.300000\n",
    "print(\"1.8\"+\"2\")\n",
    "#1.82 \n",
    "print(87>78)\n",
    "#true\n",
    "print((0.1+0.2)==0.3)\n",
    "#false\n",
    "print(\"predict\"\" output\",\" ....\")\n",
    "#predict output ...."
   ]
  },
  {
   "cell_type": "code",
   "execution_count": 3,
   "metadata": {},
   "outputs": [
    {
     "name": "stdout",
     "output_type": "stream",
     "text": [
      "Prints  multiple  messages\n",
      "\n",
      "concatenatetwo strings\n",
      "\n"
     ]
    },
    {
     "ename": "TypeError",
     "evalue": "unsupported operand type(s) for +: 'int' and 'str'",
     "output_type": "error",
     "traceback": [
      "\u001b[1;31m---------------------------------------------------------------------------\u001b[0m",
      "\u001b[1;31mTypeError\u001b[0m                                 Traceback (most recent call last)",
      "\u001b[1;32m<ipython-input-3-c7ccb0472ab2>\u001b[0m in \u001b[0;36m<module>\u001b[1;34m\u001b[0m\n\u001b[0;32m      3\u001b[0m \u001b[0mprint\u001b[0m\u001b[1;33m(\u001b[0m\u001b[1;34m\"concatenate\"\u001b[0m\u001b[1;33m+\u001b[0m\u001b[1;34m\"two strings\\n\"\u001b[0m\u001b[1;33m)\u001b[0m\u001b[1;33m\u001b[0m\u001b[1;33m\u001b[0m\u001b[0m\n\u001b[0;32m      4\u001b[0m \u001b[1;31m#concatenate two strings\u001b[0m\u001b[1;33m\u001b[0m\u001b[1;33m\u001b[0m\u001b[1;33m\u001b[0m\u001b[0m\n\u001b[1;32m----> 5\u001b[1;33m \u001b[0mprint\u001b[0m\u001b[1;33m(\u001b[0m\u001b[1;36m5\u001b[0m\u001b[1;33m+\u001b[0m\u001b[1;36m6\u001b[0m\u001b[1;33m+\u001b[0m\u001b[1;34m\"add two numbers\\n\"\u001b[0m\u001b[1;33m)\u001b[0m\u001b[1;33m\u001b[0m\u001b[1;33m\u001b[0m\u001b[0m\n\u001b[0m\u001b[0;32m      6\u001b[0m \u001b[1;31m#error\u001b[0m\u001b[1;33m\u001b[0m\u001b[1;33m\u001b[0m\u001b[1;33m\u001b[0m\u001b[0m\n",
      "\u001b[1;31mTypeError\u001b[0m: unsupported operand type(s) for +: 'int' and 'str'"
     ]
    }
   ],
   "source": [
    "print(\"Prints\", \" multiple\",\" messages\\n\")\n",
    "#Prints multiple messages \n",
    "print(\"concatenate\"+\"two strings\\n\")\n",
    "#concatenate two strings\n",
    "print(5+6+\"add two numbers\\n\")\n",
    "#error"
   ]
  },
  {
   "cell_type": "code",
   "execution_count": 4,
   "metadata": {},
   "outputs": [
    {
     "name": "stdout",
     "output_type": "stream",
     "text": [
      "banana\n",
      "c:\\naresh\\raju\\abhi\n"
     ]
    }
   ],
   "source": [
    "print(\"ba\"+\"na\"*2)\n",
    "print(r\"c:\\naresh\\raju\\abhi\")"
   ]
  },
  {
   "cell_type": "code",
   "execution_count": 5,
   "metadata": {},
   "outputs": [
    {
     "data": {
      "text/plain": [
       "'WAS I TAC A RO RAC A TI SAW'"
      ]
     },
     "execution_count": 5,
     "metadata": {},
     "output_type": "execute_result"
    }
   ],
   "source": [
    "p='was it a car or a cat i saw'[::-1].swapcase()\n",
    "p"
   ]
  },
  {
   "cell_type": "code",
   "execution_count": 7,
   "metadata": {},
   "outputs": [
    {
     "data": {
      "text/plain": [
       "'946'"
      ]
     },
     "execution_count": 7,
     "metadata": {},
     "output_type": "execute_result"
    }
   ],
   "source": [
    "a='1934567'[1::2]\n",
    "a"
   ]
  },
  {
   "cell_type": "code",
   "execution_count": 8,
   "metadata": {},
   "outputs": [
    {
     "name": "stdout",
     "output_type": "stream",
     "text": [
      "['Facebook', 'already', 'uses', 'Al', 'to', 'filter', 'fake', 'stories', 'from', 'the', 'feeds', 'of', 'users']\n"
     ]
    }
   ],
   "source": [
    "str=\"Facebook already uses Al to filter fake stories from the feeds of users\".split()\n",
    "print(str)"
   ]
  },
  {
   "cell_type": "code",
   "execution_count": 9,
   "metadata": {},
   "outputs": [
    {
     "data": {
      "text/plain": [
       "'g anytoW'"
      ]
     },
     "execution_count": 9,
     "metadata": {},
     "output_type": "execute_result"
    }
   ],
   "source": [
    "'Welcome to Python traing program'[-4:-33:-4]"
   ]
  },
  {
   "cell_type": "code",
   "execution_count": 10,
   "metadata": {},
   "outputs": [
    {
     "data": {
      "text/plain": [
       "' rs ot'"
      ]
     },
     "execution_count": 10,
     "metadata": {},
     "output_type": "execute_result"
    }
   ],
   "source": [
    "msg=\"welcome to sr engineering college\"\n",
    "x=msg.count('o')\n",
    "y=msg.count('r')\n",
    "msg[y**x:(x**y+x+y):][::-1]\n",
    "# msg[8:14:][::-1]\n",
    "# starting from eight element it reads upto fourteenth and in the next instruction it counts from reverse so it prints\" rs ot \""
   ]
  },
  {
   "cell_type": "code",
   "execution_count": 12,
   "metadata": {},
   "outputs": [
    {
     "name": "stdout",
     "output_type": "stream",
     "text": [
      "taawkcbe  tgestrcoeeA\n",
      "......\n",
      "ot emoc\n"
     ]
    }
   ],
   "source": [
    "print('A series of characters designated as one object known as a string'[::-1][4::3])\n",
    "#it reads from reverse at the begin and then reads from the fourth element of the reversed statement by skipping 3 elements i.e\"taawkcbe  tgestrcoeeA\"\n",
    "print(\"......\")\n",
    "#......\n",
    "print('Welcome to Python traing program'[3:10][::-1])\n",
    "#it readsnfrom 3rd indexed element upto 10th indexed element then it reverses the elements and prints from 10th to 3rd element"
   ]
  },
  {
   "cell_type": "code",
   "execution_count": 13,
   "metadata": {},
   "outputs": [
    {
     "data": {
      "text/plain": [
       "['EKIL', 'GNIDAERPS', 'ROF', 'KCANK']"
      ]
     },
     "execution_count": 13,
     "metadata": {},
     "output_type": "execute_result"
    }
   ],
   "source": [
    "'Fake news has a knack for spreading like wildfire'[-10:-34:-1].swapcase().split()"
   ]
  },
  {
   "cell_type": "code",
   "execution_count": 14,
   "metadata": {},
   "outputs": [
    {
     "data": {
      "text/plain": [
       "'sscc'"
      ]
     },
     "execution_count": 14,
     "metadata": {},
     "output_type": "execute_result"
    }
   ],
   "source": [
    "#4 .2\n",
    "'A series of characters designated as one object known as a string'[2:20:5]"
   ]
  },
  {
   "cell_type": "code",
   "execution_count": 15,
   "metadata": {},
   "outputs": [
    {
     "name": "stdout",
     "output_type": "stream",
     "text": [
      "enter amount of water in kgs150\n",
      "enter final temp105\n",
      "enter intial temp95\n"
     ]
    },
    {
     "data": {
      "text/plain": [
       "6276000"
      ]
     },
     "execution_count": 15,
     "metadata": {},
     "output_type": "execute_result"
    }
   ],
   "source": [
    "m=int(input((\"enter amount of water in kgs\")))\n",
    "ft=int(input((\"enter final temp\")))\n",
    "it=int(input((\"enter intial temp\")))\n",
    "Q = m * (ft-it) * 4184\n",
    "Q"
   ]
  },
  {
   "cell_type": "code",
   "execution_count": 18,
   "metadata": {},
   "outputs": [
    {
     "name": "stdout",
     "output_type": "stream",
     "text": [
      "5\n",
      "6\n",
      "15625\n",
      "520\n",
      "515\n"
     ]
    }
   ],
   "source": [
    "x=int(input())\n",
    "y=int(input())\n",
    "pow=x**y\n",
    "print(pow)\n",
    "div=int(pow/(x*y))\n",
    "print(div)\n",
    "print(div ^ (x+y))"
   ]
  },
  {
   "cell_type": "code",
   "execution_count": 19,
   "metadata": {},
   "outputs": [
    {
     "name": "stdout",
     "output_type": "stream",
     "text": [
      "5\n",
      "zzzzzoooooooooo\n"
     ]
    }
   ],
   "source": [
    "x=int(input())\n",
    "y=2*x\n",
    "str='z'*x+'o'*y\n",
    "print(str)"
   ]
  },
  {
   "cell_type": "code",
   "execution_count": null,
   "metadata": {},
   "outputs": [],
   "source": []
  }
 ],
 "metadata": {
  "kernelspec": {
   "display_name": "Python 3",
   "language": "python",
   "name": "python3"
  },
  "language_info": {
   "codemirror_mode": {
    "name": "ipython",
    "version": 3
   },
   "file_extension": ".py",
   "mimetype": "text/x-python",
   "name": "python",
   "nbconvert_exporter": "python",
   "pygments_lexer": "ipython3",
   "version": "3.7.6"
  }
 },
 "nbformat": 4,
 "nbformat_minor": 4
}
