{
 "cells": [
  {
   "cell_type": "code",
   "execution_count": 1,
   "metadata": {},
   "outputs": [
    {
     "name": "stdout",
     "output_type": "stream",
     "text": [
      "enter the length of side a: 3\n",
      "enter the length of side b: 4\n",
      "enter the length of side c: 5\n",
      "6.0\n"
     ]
    }
   ],
   "source": [
    "a=int(input(\"enter the length of side a: \"))\n",
    "b=int(input(\"enter the length of side b: \"))\n",
    "c=int(input(\"enter the length of side c: \"))\n",
    "ar=(((a+b+c)/2)*((b+c-a)/2)*((a+c-b)/2)*((a+b-c)/2))**(1/2)\n",
    "print(ar)"
   ]
  },
  {
   "cell_type": "code",
   "execution_count": 3,
   "metadata": {},
   "outputs": [
    {
     "name": "stdout",
     "output_type": "stream",
     "text": [
      "enter a wordsos\n",
      "Yes, it is a palindrome \n"
     ]
    }
   ],
   "source": [
    "def pal(s): \n",
    "    return s == s[::-1] \n",
    "  \n",
    "  \n",
    "s=input(\"enter a word\")\n",
    "a = pal(s) \n",
    "  \n",
    "if a: \n",
    "    print(\"Yes, it is a palindrome \") \n",
    "else: \n",
    "    print(\"No, it is not a palindrome\") "
   ]
  },
  {
   "cell_type": "code",
   "execution_count": 4,
   "metadata": {},
   "outputs": [
    {
     "name": "stdout",
     "output_type": "stream",
     "text": [
      "enter the year: 2020\n",
      "it is a leap year\n"
     ]
    }
   ],
   "source": [
    "y=int(input(\"enter the year: \"))\n",
    "if y%4==0:\n",
    "    print(\"it is a leap year\")\n",
    "else:\n",
    "    print(\"It is not a leap year\")"
   ]
  },
  {
   "cell_type": "code",
   "execution_count": 5,
   "metadata": {},
   "outputs": [
    {
     "name": "stdout",
     "output_type": "stream",
     "text": [
      "enter a string: s r e c\n",
      "s-r-e-c\n"
     ]
    }
   ],
   "source": [
    "s=input(\"enter a string: \")\n",
    "d=s.replace(\" \",\"-\")\n",
    "print(d)"
   ]
  },
  {
   "cell_type": "code",
   "execution_count": 5,
   "metadata": {},
   "outputs": [
    {
     "name": "stdout",
     "output_type": "stream",
     "text": [
      "enter your salary: 2500000\n",
      " Income tax to be paid :  \n",
      "1750000.0\n"
     ]
    }
   ],
   "source": [
    "s=int(input(\"enter your salary: \"))\n",
    "if s < 250001 :\n",
    "    print(\" Your are free from income tax \")\n",
    "elif 250000 < s <=500000 :\n",
    "    t= s - s * (1/20)\n",
    "    print(\"Income tax to be paid : \")\n",
    "    print(t)\n",
    "elif 500000 < s <= 750000:\n",
    "    t= s- s * (1/10)\n",
    "    print(\" Income tax to be paid :  \")\n",
    "    print(t)\n",
    "elif 750000 < s <= 1000000:\n",
    "    t= s -s * (15/100)\n",
    "    print(\" Income tax to be paid :  \")\n",
    "    print(t)\n",
    "elif 1000000 < s <= 1250000:\n",
    "    t = s -s * (1/5)\n",
    "    print(\" Income tax to be paid :  \")\n",
    "    print(t)\n",
    "elif 1250000 < s <= 1500000:\n",
    "    t = s -s * (1/4)\n",
    "    print(\" Income tax to be paid :  \")\n",
    "    print(t)\n",
    "else:\n",
    "    t= s -s * (3/10)\n",
    "    print(\" Income tax to be paid :  \")\n",
    "    print(t)"
   ]
  },
  {
   "cell_type": "code",
   "execution_count": 6,
   "metadata": {},
   "outputs": [
    {
     "name": "stdout",
     "output_type": "stream",
     "text": [
      "enter the no of days: 1\n",
      "enter the no of hours: 24\n",
      "enter the no of minutes: 60\n",
      "enter the no of seconds: 60\n",
      "Total no of seconds: \n",
      "176460\n"
     ]
    }
   ],
   "source": [
    "d=int(input(\"enter the no of days: \"))\n",
    "h=int(input(\"enter the no of hours: \"))\n",
    "m=int(input(\"enter the no of minutes: \"))\n",
    "s=int(input(\"enter the no of seconds: \"))\n",
    "ss=((d*24*60*60) + (h*60*60) + (m*60) + (s))\n",
    "print(\"Total no of seconds: \")\n",
    "print(ss)"
   ]
  },
  {
   "cell_type": "code",
   "execution_count": 7,
   "metadata": {},
   "outputs": [
    {
     "name": "stdout",
     "output_type": "stream",
     "text": [
      "enter a number: 12\n",
      "enter another number: 15\n",
      "enter another number: 18\n",
      "[18, [15], 12]\n"
     ]
    }
   ],
   "source": [
    "n1 = int(input(\"enter a number: \"))\n",
    "n2 = int(input(\"enter another number: \"))\n",
    "n3 = int(input(\"enter another number: \"))\n",
    "nlist = [n1 , n2 , n3]\n",
    "h = max(nlist)\n",
    "nlist.remove(h)\n",
    "l = min(nlist)\n",
    "nlist.remove(l)\n",
    "mlist=[h,nlist,l]\n",
    "print(mlist)"
   ]
  },
  {
   "cell_type": "code",
   "execution_count": 10,
   "metadata": {},
   "outputs": [
    {
     "name": "stdout",
     "output_type": "stream",
     "text": [
      "121111200\n"
     ]
    }
   ],
   "source": [
    "numlist=[45,2,3,89,72,1,10,7]\n",
    "s= 1\n",
    "for i in numlist:\n",
    "    s=s*i\n",
    "print(s)"
   ]
  },
  {
   "cell_type": "code",
   "execution_count": 20,
   "metadata": {},
   "outputs": [
    {
     "name": "stdout",
     "output_type": "stream",
     "text": [
      "[11, 14, 42, 123, 90]\n"
     ]
    }
   ],
   "source": [
    "def u(nlist):\n",
    "    mlist = []\n",
    "    i=0\n",
    "    while i <(len(nlist)-1):\n",
    "        mlist.append(nlist[i]+nlist[i+1])\n",
    "        i+=1\n",
    "    return mlist\n",
    "nlist=[5, 6,8 ,34,89,1]\n",
    "print(u(nlist))"
   ]
  },
  {
   "cell_type": "code",
   "execution_count": 23,
   "metadata": {},
   "outputs": [
    {
     "name": "stdout",
     "output_type": "stream",
     "text": [
      "[5, 30, 240, 720, 6480, 6480]\n"
     ]
    }
   ],
   "source": [
    "def u(dtuple):\n",
    "    slist = []\n",
    "    i=0\n",
    "    pr=1\n",
    "    while i< (len(dtuple)):\n",
    "        pr = pr * dtuple[i]\n",
    "        slist.append(pr)\n",
    "        i+=1\n",
    "    return slist\n",
    "dtuple = (5, 6,8 ,3,9,1)\n",
    "print(u(dtuple))       "
   ]
  },
  {
   "cell_type": "code",
   "execution_count": 26,
   "metadata": {},
   "outputs": [
    {
     "name": "stdout",
     "output_type": "stream",
     "text": [
      "Enter an integer: 25869\n",
      "['2', '5', '8', '6', '9']\n"
     ]
    }
   ],
   "source": [
    "def d(n):\n",
    "    s=str(n)\n",
    "    dlist=[]\n",
    "    for i in range(0,len(s)):\n",
    "        dlist.append(s[i])\n",
    "        i+=1\n",
    "    return dlist\n",
    "n=int(input('Enter an integer: '))\n",
    "print(d(n))"
   ]
  },
  {
   "cell_type": "code",
   "execution_count": 2,
   "metadata": {},
   "outputs": [
    {
     "name": "stdout",
     "output_type": "stream",
     "text": [
      "Enter a string: madam i am your student\n",
      "madam\n"
     ]
    }
   ],
   "source": [
    "def s(st):\n",
    "    p=1\n",
    "    d=0\n",
    "    for i in range(0,len(st)):\n",
    "        for j in range(i+1,len(st)):\n",
    "            if st[i:j] == st[j:i:-1]:\n",
    "                if len(st[i:j])>p:\n",
    "                    p=len(st[i:j])\n",
    "                    ps=(st[i:j+1])\n",
    "                    d=1\n",
    "    if d:\n",
    "        return ps\n",
    "    else:\n",
    "        return \"No string is a palindrome\"\n",
    "st=input('Enter a string: ')\n",
    "print(s(st))"
   ]
  },
  {
   "cell_type": "code",
   "execution_count": 3,
   "metadata": {},
   "outputs": [
    {
     "name": "stdout",
     "output_type": "stream",
     "text": [
      "Enter a binary number v: 10010010\n",
      "Enter another binary number r: 01001\n",
      "r is a substring of v\n"
     ]
    }
   ],
   "source": [
    "def s(st1,st2):\n",
    "    d=0\n",
    "    for i in range(0,len(st1)):\n",
    "        if st1[i:i+len(st2)]==st2:\n",
    "            d=1\n",
    "    return d\n",
    "v=input(\"Enter a binary number v: \")\n",
    "r=input(\"Enter another binary number r: \")\n",
    "if s(v,r):\n",
    "    print(\"r is a substring of v\")\n",
    "else:\n",
    "    print(\"r is not a substring of v\")"
   ]
  },
  {
   "cell_type": "code",
   "execution_count": null,
   "metadata": {},
   "outputs": [],
   "source": []
  }
 ],
 "metadata": {
  "kernelspec": {
   "display_name": "Python 3",
   "language": "python",
   "name": "python3"
  },
  "language_info": {
   "codemirror_mode": {
    "name": "ipython",
    "version": 3
   },
   "file_extension": ".py",
   "mimetype": "text/x-python",
   "name": "python",
   "nbconvert_exporter": "python",
   "pygments_lexer": "ipython3",
   "version": "3.7.6"
  }
 },
 "nbformat": 4,
 "nbformat_minor": 4
}
